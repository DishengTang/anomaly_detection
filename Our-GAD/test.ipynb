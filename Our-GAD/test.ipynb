{
 "cells": [
  {
   "cell_type": "code",
   "execution_count": 41,
   "source": [
    "import numpy as np\n",
    "import os.path as osp\n",
    "import dgl\n",
    "from dgl.data import FraudDataset\n",
    "\n",
    "print(osp)\n",
    "# dataset = FraudDataset('yelp', raw_dir= osp.join(osp.expanduser('~'), '.dgl/dataset/'))\n"
   ],
   "outputs": [
    {
     "output_type": "stream",
     "name": "stdout",
     "text": [
      "<module 'posixpath' from '/home/wangguifeng/anaconda3/envs/pytorch/lib/python3.8/posixpath.py'>\n"
     ]
    }
   ],
   "metadata": {}
  },
  {
   "cell_type": "code",
   "execution_count": 19,
   "source": [
    "import torch_geometric\n",
    "from torch_geometric.datasets import BitcoinOTC, UPFD\n",
    "from IPython.core.interactiveshell import InteractiveShell\n",
    "InteractiveShell.ast_node_interactivity = \"all\"\n",
    "from torch_geometric.loader import DataLoader\n",
    "\n",
    "otc_root = osp.join(osp.expanduser('~'), 'datasets/Bitcoin-OTC/')\n",
    "dataset3 = BitcoinOTC(root=otc_root)\n",
    "dataset3\n",
    "data = dataset3[2]\n",
    "label = data.edge_attr\n",
    "label \n",
    "data\n",
    "otc_data_loader = DataLoader(dataset3, batch_size=16, shuffle=True)\n",
    "for data in otc_data_loader:\n",
    "    break\n",
    "data"
   ],
   "outputs": [
    {
     "output_type": "execute_result",
     "data": {
      "text/plain": [
       "BitcoinOTC(138)"
      ]
     },
     "metadata": {},
     "execution_count": 19
    },
    {
     "output_type": "execute_result",
     "data": {
      "text/plain": [
       "tensor([ 4,  2,  1,  7,  8,  8,  1,  5,  5,  5,  8,  8,  9,  7,  5,  1,  8,  7,\n",
       "         8,  1, 10,  7,  7,  1,  1,  3,  3,  1,  4,  2,  5,  5,  1,  2,  2,  2,\n",
       "         2,  2,  1,  2,  1,  8,  1,  1,  1,  1,  1,  1,  1,  1,  5,  3,  9,  2,\n",
       "         3,  2,  3,  1,  1,  1,  9,  3,  2,  2,  1,  1,  1,  3,  1,  1,  1,  1,\n",
       "         1,  1,  2,  1,  1,  1,  1,  1,  1,  2,  2,  2,  2,  2,  1,  1,  6,  2,\n",
       "         2,  2,  2,  3,  4,  4,  4,  1,  1,  2,  5])"
      ]
     },
     "metadata": {},
     "execution_count": 19
    },
    {
     "output_type": "execute_result",
     "data": {
      "text/plain": [
       "Data(edge_index=[2, 101], edge_attr=[101], num_nodes=6005)"
      ]
     },
     "metadata": {},
     "execution_count": 19
    },
    {
     "output_type": "execute_result",
     "data": {
      "text/plain": [
       "DataBatch(edge_index=[2, 46689], edge_attr=[46689], num_nodes=96080, batch=[96080], ptr=[17])"
      ]
     },
     "metadata": {},
     "execution_count": 19
    }
   ],
   "metadata": {}
  },
  {
   "cell_type": "code",
   "execution_count": 43,
   "source": [
    "import collections\n",
    "\n",
    "count_edge = []\n",
    "weight_range = range(-10,10)\n",
    "for data in dataset3:\n",
    "    d = collections.Counter(list(data.edge_attr.numpy()))\n",
    "    temp = []\n",
    "    for i in weight_range:\n",
    "        temp.append(d[i])\n",
    "    count_edge.append(temp)"
   ],
   "outputs": [],
   "metadata": {}
  },
  {
   "cell_type": "code",
   "execution_count": 46,
   "source": [
    "import pandas as pd\n",
    "import matplotlib.pyplot as plt\n",
    "pd.set_option('display.max_rows',200)\n",
    "pd.set_option('display.max_columns',30)\n",
    "pd_count_edge = pd.DataFrame(np.array(count_edge))\n",
    "# plot the number of samples with edge_attr=-10 in each graph(xaxis = 138 graphs)\n",
    "plt.plot(range(len(count_edge)), pd_count_edge[0],label='edge_attr=-10');\n",
    "# plot the number of samples with edge_attr=-1 in each graph(xaxis = 138 graphs)\n",
    "plt.plot(range(len(count_edge)), pd_count_edge[9],label='edge_attr=-1');\n",
    "plt.legend();\n"
   ],
   "outputs": [
    {
     "output_type": "display_data",
     "data": {
      "image/png": "[encoded data removed]",
      "text/plain": [
       "<Figure size 432x288 with 1 Axes>"
      ]
     },
     "metadata": {}
    }
   ],
   "metadata": {}
  },
  {
   "cell_type": "code",
   "execution_count": 20,
   "source": [
    "from torch_geometric.datasets import UPFD\n",
    "from torch_geometric.transforms import ToUndirected\n",
    "import os.path as osp\n",
    "\n",
    "upfd_root = osp.join(osp.expanduser('~'), 'datasets/UPFD/')\n",
    "upfd_data_name = ['politifact', 'gossipcop']\n",
    "upfd_data_feature = ['profile', 'spacy', 'bert', 'content']\n",
    "train_dataset = UPFD(upfd_root, upfd_data_name[0],  upfd_data_feature[0], 'train', ToUndirected())\n",
    "len(train_dataset)\n",
    "train_dataset[1]"
   ],
   "outputs": [
    {
     "output_type": "execute_result",
     "data": {
      "text/plain": [
       "62"
      ]
     },
     "metadata": {},
     "execution_count": 20
    },
    {
     "output_type": "execute_result",
     "data": {
      "text/plain": [
       "Data(x=[32, 10], edge_index=[2, 62], y=[1])"
      ]
     },
     "metadata": {},
     "execution_count": 20
    }
   ],
   "metadata": {}
  },
  {
   "cell_type": "code",
   "execution_count": 16,
   "source": [
    "from torch_geometric.loader import DataLoader\n",
    "train_loader = DataLoader(train_dataset, batch_size=30, shuffle=True)\n",
    "for data in train_loader:\n",
    "    break\n",
    "data"
   ],
   "outputs": [
    {
     "output_type": "execute_result",
     "data": {
      "text/plain": [
       "DataBatch(x=[3481, 10], edge_index=[2, 6902], y=[30], batch=[3481], ptr=[31])"
      ]
     },
     "metadata": {},
     "execution_count": 16
    }
   ],
   "metadata": {}
  },
  {
   "cell_type": "code",
   "execution_count": 9,
   "source": [
    "from dgl.data import BitcoinOTCDataset\n",
    "otc_dataset = BitcoinOTCDataset(raw_dir= osp.join(osp.expanduser('~'), 'datasets/Bitcoin-OTC/'))\n",
    "len(otc_dataset)\n",
    "data2 = otc_dataset[0]\n",
    "data2.num_edges"
   ],
   "outputs": [
    {
     "output_type": "execute_result",
     "data": {
      "text/plain": [
       "136"
      ]
     },
     "metadata": {},
     "execution_count": 9
    }
   ],
   "metadata": {}
  },
  {
   "cell_type": "code",
   "execution_count": 10,
   "source": [
    "data = dataset[0]\n"
   ],
   "outputs": [],
   "metadata": {}
  },
  {
   "cell_type": "code",
   "execution_count": 11,
   "source": [
    "data\n"
   ],
   "outputs": [
    {
     "output_type": "execute_result",
     "data": {
      "text/plain": [
       "Graph(num_nodes={'review': 45954},\n",
       "      num_edges={('review', 'net_rsr', 'review'): 6805486, ('review', 'net_rtr', 'review'): 1147232, ('review', 'net_rur', 'review'): 98630},\n",
       "      metagraph=[('review', 'review', 'net_rsr'), ('review', 'review', 'net_rtr'), ('review', 'review', 'net_rur')])"
      ]
     },
     "metadata": {},
     "execution_count": 11
    }
   ],
   "metadata": {}
  },
  {
   "cell_type": "code",
   "execution_count": null,
   "source": [
    "data.ndata['feature'].shape"
   ],
   "outputs": [],
   "metadata": {}
  },
  {
   "cell_type": "code",
   "execution_count": 14,
   "source": [
    "data.edge_ids"
   ],
   "outputs": [
    {
     "output_type": "execute_result",
     "data": {
      "text/plain": [
       "<bound method DGLHeteroGraph.edge_ids of Graph(num_nodes={'review': 45954},\n",
       "      num_edges={('review', 'net_rsr', 'review'): 6805486, ('review', 'net_rtr', 'review'): 1147232, ('review', 'net_rur', 'review'): 98630},\n",
       "      metagraph=[('review', 'review', 'net_rsr'), ('review', 'review', 'net_rtr'), ('review', 'review', 'net_rur')])>"
      ]
     },
     "metadata": {},
     "execution_count": 14
    }
   ],
   "metadata": {}
  },
  {
   "cell_type": "code",
   "execution_count": 2,
   "source": [
    "from torch_geometric.utils import k_hop_subgraph, subgraph, get_laplacian, to_dense_adj\n",
    "import torch\n",
    "import numpy as np\n",
    "\n",
    "node_idx = [2,3,4,5]\n",
    "edge_index = np.array([[1,2],[1,3],[3,4],[2,4],[2,7],[3,7],[1,5],[4,5],[4,6],[6,8],[4,8]]).T\n",
    "edge_index = torch.tensor(edge_index).type(torch.LongTensor)\n",
    "# res = k_hop_subgraph([3], 2, edge_index)\n",
    "# res = subgraph(node_idx, edge_index)\n",
    "L = to_dense_adj(get_laplacian(edge_index, normalization='sym')[0])"
   ],
   "outputs": [],
   "metadata": {}
  },
  {
   "cell_type": "code",
   "execution_count": 1,
   "source": [
    "EigVals, EigVecs = torch.linalg.eigh(L)\n",
    "EigVals\n"
   ],
   "outputs": [
    {
     "output_type": "error",
     "ename": "NameError",
     "evalue": "name 'torch' is not defined",
     "traceback": [
      "\u001b[0;31m---------------------------------------------------------------------------\u001b[0m",
      "\u001b[0;31mNameError\u001b[0m                                 Traceback (most recent call last)",
      "\u001b[0;32m/tmp/ipykernel_3979074/1358468850.py\u001b[0m in \u001b[0;36m<module>\u001b[0;34m\u001b[0m\n\u001b[0;32m----> 1\u001b[0;31m \u001b[0mEigVals\u001b[0m\u001b[0;34m,\u001b[0m \u001b[0mEigVecs\u001b[0m \u001b[0;34m=\u001b[0m \u001b[0mtorch\u001b[0m\u001b[0;34m.\u001b[0m\u001b[0mlinalg\u001b[0m\u001b[0;34m.\u001b[0m\u001b[0meigh\u001b[0m\u001b[0;34m(\u001b[0m\u001b[0mL\u001b[0m\u001b[0;34m)\u001b[0m\u001b[0;34m\u001b[0m\u001b[0;34m\u001b[0m\u001b[0m\n\u001b[0m\u001b[1;32m      2\u001b[0m \u001b[0mEigVals\u001b[0m\u001b[0;34m\u001b[0m\u001b[0;34m\u001b[0m\u001b[0m\n",
      "\u001b[0;31mNameError\u001b[0m: name 'torch' is not defined"
     ]
    }
   ],
   "metadata": {}
  },
  {
   "cell_type": "code",
   "execution_count": 6,
   "source": [
    "EigVecs"
   ],
   "outputs": [
    {
     "output_type": "execute_result",
     "data": {
      "text/plain": [
       "tensor([[[1., 0., 0., 0., 0., 0., 0., 0., 0.],\n",
       "         [0., 1., 0., 0., 0., 0., 0., 0., 0.],\n",
       "         [0., 0., 1., 0., 0., 0., 0., 0., 0.],\n",
       "         [0., 0., 0., 1., 0., 0., 0., 0., 0.],\n",
       "         [0., 0., 0., 0., 1., 0., 0., 0., 0.],\n",
       "         [0., 0., 0., 0., 0., 1., 0., 0., 0.],\n",
       "         [0., 0., 0., 0., 0., 0., 1., 0., 0.],\n",
       "         [0., 0., 0., 0., 0., 0., 0., 1., 0.],\n",
       "         [0., 0., 0., 0., 0., 0., 0., 0., 1.]]])"
      ]
     },
     "metadata": {},
     "execution_count": 6
    }
   ],
   "metadata": {}
  }
 ],
 "metadata": {
  "orig_nbformat": 4,
  "language_info": {
   "name": "python",
   "version": "3.8.10",
   "mimetype": "text/x-python",
   "codemirror_mode": {
    "name": "ipython",
    "version": 3
   },
   "pygments_lexer": "ipython3",
   "nbconvert_exporter": "python",
   "file_extension": ".py"
  },
  "kernelspec": {
   "name": "python3",
   "display_name": "Python 3.8.10 64-bit ('pytorch': conda)"
  },
  "interpreter": {
   "hash": "47199d7741f3951fea6232d33968d2547eda998e843fd3d500bf2829ec1812f0"
  }
 },
 "nbformat": 4,
 "nbformat_minor": 2
}